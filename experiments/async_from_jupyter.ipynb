{
 "cells": [
  {
   "cell_type": "code",
   "execution_count": null,
   "id": "28c3ea71",
   "metadata": {},
   "outputs": [],
   "source": [
    "import  asyncio, nest_asyncio\n",
    "from typing import List\n",
    "import pandas as pd\n",
    "\n",
    "from read_telega_dump import telega_dump_to_pandas\n",
    "from read_telega_api import extract_message_reactions\n",
    "\n",
    "import time\n",
    "\n",
    "nest_asyncio.apply()\n",
    "\n",
    "dump_path = r\"D:\\test_data\\ChatExport_2024-03-14\\result.json\"\n",
    "tlg_group_id = -1001688539638 \n",
    "# telegram group id, can be taken from \"copy message link\"  in desctop telegram"
   ]
  },
  {
   "cell_type": "code",
   "execution_count": null,
   "id": "295b93cc",
   "metadata": {},
   "outputs": [],
   "source": [
    "async def jpt_ntb_extract_message_reactions(tlg_group_id: int, ids: List[int])->pd.DataFrame:\n",
    "    loop = asyncio.get_event_loop()\n",
    "    task = loop.create_task(extract_message_reactions(tlg_group_id, ids, chunk_size=200))\n",
    "    result = await task\n",
    "    # print(\"Result:\", result)\n",
    "    return result"
   ]
  },
  {
   "cell_type": "code",
   "execution_count": null,
   "id": "addb0330",
   "metadata": {},
   "outputs": [],
   "source": [
    "df = telega_dump_to_pandas(dump_path=dump_path)\n"
   ]
  },
  {
   "cell_type": "code",
   "execution_count": null,
   "id": "61c74131",
   "metadata": {},
   "outputs": [],
   "source": [
    "ids = df['id'].to_list()\n",
    "# df_reactions = asyncio.run(jpt_ntb_extract_message_reactions(tlg_group_id, ids[141300:142000]))\n",
    "df_reactions = asyncio.run(get_reactions(tlg_group_id, ids[141000:142000]))\n"
   ]
  },
  {
   "cell_type": "code",
   "execution_count": null,
   "id": "cf1293a0",
   "metadata": {},
   "outputs": [],
   "source": [
    "len(df_reactions)"
   ]
  },
  {
   "cell_type": "code",
   "execution_count": null,
   "id": "d54ff590",
   "metadata": {},
   "outputs": [],
   "source": [
    "#149230 in ids[141900:142000] # df_reactions['msg_id'].to_list()\n",
    "\n",
    "# 149230 in \n",
    "len(df_reactions) # ['msg_id'].to_list()\n"
   ]
  },
  {
   "cell_type": "code",
   "execution_count": null,
   "id": "4acade36",
   "metadata": {},
   "outputs": [],
   "source": [
    "df.to_parquet('df.parquet.gzip', compression='gzip')"
   ]
  },
  {
   "cell_type": "code",
   "execution_count": null,
   "id": "e8fc5278",
   "metadata": {},
   "outputs": [],
   "source": [
    "import tiktoken\n",
    "\n",
    "# Load the cl100k_base tokenizer which is designed to work with the ada-002 model\n",
    "tokenizer = tiktoken.get_encoding(\"cl100k_base\")\n",
    "\n",
    "\n",
    "# Tokenize the text and save the number of tokens to a new column\n",
    "df['n_tokens'] = df.mess_text.apply(lambda x: len(tokenizer.encode(x)))\n",
    "\n"
   ]
  },
  {
   "cell_type": "code",
   "execution_count": null,
   "id": "84b31b66",
   "metadata": {},
   "outputs": [],
   "source": [
    "# df.dtypes\n",
    "# Visualize the distribution of the number of tokens per row using a histogram\n",
    "df.n_tokens.hist(bins=200)\n",
    "# df.tail(50)\n",
    "\n"
   ]
  }
 ],
 "metadata": {
  "kernelspec": {
   "display_name": "Python 3 (ipykernel)",
   "language": "python",
   "name": "python3"
  },
  "language_info": {
   "codemirror_mode": {
    "name": "ipython",
    "version": 3
   },
   "file_extension": ".py",
   "mimetype": "text/x-python",
   "name": "python",
   "nbconvert_exporter": "python",
   "pygments_lexer": "ipython3",
   "version": "3.12.2"
  }
 },
 "nbformat": 4,
 "nbformat_minor": 5
}
