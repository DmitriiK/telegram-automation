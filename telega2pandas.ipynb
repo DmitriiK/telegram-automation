{
 "cells": [
  {
   "cell_type": "code",
   "execution_count": 151,
   "id": "28c3ea71",
   "metadata": {},
   "outputs": [],
   "source": [
    "from datetime import datetime\n",
    "\n",
    "import pandas as pd\n",
    "import matplotlib.pyplot as plt\n",
    "%matplotlib inline\n",
    "\n",
    "from read_telega_dump import telega_dump_to_pandas\n",
    "from read_telega_api import extract_message_reactions\n",
    "\n",
    "\n",
    "tlg_group_id = -1001688539638 \n",
    "# telegram group id, can be taken from \"copy message link\"  in desctop telegram"
   ]
  },
  {
   "cell_type": "markdown",
   "id": "f805d3b8",
   "metadata": {},
   "source": [
    "### we can use either of the cells below to load data from dump"
   ]
  },
  {
   "cell_type": "code",
   "execution_count": null,
   "id": "addb0330",
   "metadata": {},
   "outputs": [],
   "source": [
    "dump_path = r\"D:\\test_data\\ChatExport_2024-03-14\\result.json\"\n",
    "df = telega_dump_to_pandas(dump_path=dump_path)\n",
    "# note: for data, taken from \"export chat history\", we do not have number of reactions \n"
   ]
  },
  {
   "cell_type": "code",
   "execution_count": 139,
   "id": "684b1852",
   "metadata": {},
   "outputs": [
    {
     "data": {
      "text/plain": [
       "(144835, 10)"
      ]
     },
     "execution_count": 139,
     "metadata": {},
     "output_type": "execute_result"
    }
   ],
   "source": [
    "tlg_group_id = -1001688539638\n",
    "file_path = rf'data\\chat{tlg_group_id}.parquet.gzip'\n",
    "df =pd.read_parquet(file_path)\n",
    "df.shape"
   ]
  },
  {
   "cell_type": "code",
   "execution_count": 136,
   "id": "4958e722",
   "metadata": {},
   "outputs": [
    {
     "data": {
      "text/plain": [
       "is_question                       bool\n",
       "user_name                       object\n",
       "msg_text                        object\n",
       "msg_len                          int64\n",
       "reply_to_msg_id                float64\n",
       "react_cnt                        int64\n",
       "user_id                          int64\n",
       "msg_id                           int64\n",
       "msg_date           datetime64[ns, UTC]\n",
       "msg_month_key                 category\n",
       "dtype: object"
      ]
     },
     "execution_count": 136,
     "metadata": {},
     "output_type": "execute_result"
    }
   ],
   "source": [
    "df.dtypes"
   ]
  },
  {
   "cell_type": "markdown",
   "id": "96eb0c40",
   "metadata": {},
   "source": [
    "### Overall statistics"
   ]
  },
  {
   "cell_type": "code",
   "execution_count": 102,
   "id": "de700350",
   "metadata": {},
   "outputs": [
    {
     "name": "stderr",
     "output_type": "stream",
     "text": [
      "C:\\Users\\Dmitrii_Kalmanovich.EPAM.000\\AppData\\Local\\Temp\\ipykernel_4088\\184837841.py:1: SettingWithCopyWarning: \n",
      "A value is trying to be set on a copy of a slice from a DataFrame.\n",
      "Try using .loc[row_indexer,col_indexer] = value instead\n",
      "\n",
      "See the caveats in the documentation: https://pandas.pydata.org/pandas-docs/stable/user_guide/indexing.html#returning-a-view-versus-a-copy\n",
      "  df['dummi'] = 1 # there should be less ugly way to get different aggegations without grouping\n",
      "C:\\Users\\Dmitrii_Kalmanovich.EPAM.000\\AppData\\Local\\Temp\\ipykernel_4088\\184837841.py:15: RuntimeWarning: divide by zero encountered in scalar divide\n",
      "  {cols[0]: \"Avg messages per day\", cols[1]: round(msgs_cnt / (max_date-min_date).days, 1) },\n"
     ]
    },
    {
     "data": {
      "text/html": [
       "<div>\n",
       "<style scoped>\n",
       "    .dataframe tbody tr th:only-of-type {\n",
       "        vertical-align: middle;\n",
       "    }\n",
       "\n",
       "    .dataframe tbody tr th {\n",
       "        vertical-align: top;\n",
       "    }\n",
       "\n",
       "    .dataframe thead th {\n",
       "        text-align: right;\n",
       "    }\n",
       "</style>\n",
       "<table border=\"1\" class=\"dataframe\">\n",
       "  <thead>\n",
       "    <tr style=\"text-align: right;\">\n",
       "      <th></th>\n",
       "      <th>Metric name</th>\n",
       "      <th>Value</th>\n",
       "    </tr>\n",
       "  </thead>\n",
       "  <tbody>\n",
       "    <tr>\n",
       "      <th>0</th>\n",
       "      <td>Number or messages</td>\n",
       "      <td>51</td>\n",
       "    </tr>\n",
       "    <tr>\n",
       "      <th>1</th>\n",
       "      <td>Date interval</td>\n",
       "      <td>from 2024-03-20 to 2024-03-20</td>\n",
       "    </tr>\n",
       "    <tr>\n",
       "      <th>2</th>\n",
       "      <td>Users count</td>\n",
       "      <td>16</td>\n",
       "    </tr>\n",
       "    <tr>\n",
       "      <th>3</th>\n",
       "      <td>Avg messages per day</td>\n",
       "      <td>inf</td>\n",
       "    </tr>\n",
       "  </tbody>\n",
       "</table>\n",
       "</div>"
      ],
      "text/plain": [
       "            Metric name                          Value\n",
       "0    Number or messages                             51\n",
       "1         Date interval  from 2024-03-20 to 2024-03-20\n",
       "2           Users count                             16\n",
       "3  Avg messages per day                            inf"
      ]
     },
     "execution_count": 102,
     "metadata": {},
     "output_type": "execute_result"
    }
   ],
   "source": [
    "df['dummi'] = 1 # there should be less ugly way to get different aggegations without grouping\n",
    "agg_df = df.groupby('dummi').aggregate({'msg_id':'count','msg_date':['min','max'], 'user_id': 'nunique'}).reset_index()\n",
    "\n",
    "msgs_cnt = agg_df[( 'msg_id', 'count')][0]\n",
    "min_date = agg_df[('msg_date', 'min')][0]\n",
    "max_date = agg_df[('msg_date', 'max')][0]\n",
    "unique_users =  agg_df[('user_id', 'nunique')][0]\n",
    "del df['dummi'] \n",
    "cols = [\"Metric name\", \"Value\"]\n",
    "dt_format = \"%Y-%m-%d\"\n",
    "d_report = [\n",
    "    {cols[0]: \"Number or messages\", cols[1]: msgs_cnt},\n",
    "    {cols[0]: \"Date interval\", cols[1]: f'from {min_date.strftime(dt_format)} to {max_date.strftime(dt_format)}' },\n",
    "    {cols[0]: \"Users count\", cols[1]: unique_users },\n",
    "    {cols[0]: \"Avg messages per day\", cols[1]: round(msgs_cnt / (max_date-min_date).days, 1) },\n",
    "    ]\n",
    "pd.DataFrame.from_dict(d_report)\n",
    "\n",
    "\n",
    "\n",
    "\n"
   ]
  },
  {
   "cell_type": "markdown",
   "id": "7deff39f",
   "metadata": {},
   "source": [
    "### assign date range if you want to restict dataset to some particular period for futher analysis, or just ignore the cell below "
   ]
  },
  {
   "cell_type": "code",
   "execution_count": 125,
   "id": "e55c25ed",
   "metadata": {
    "tags": [
     "parameters"
    ]
   },
   "outputs": [],
   "source": [
    "tm_zn = 'Europe/Istanbul'\n",
    "dt_range = (pd.Timestamp(year=2022, month=2, day=23, tz=tm_zn), pd.Timestamp(datetime.now(), tz=tm_zn))           \n",
    "\n",
    "df = df[df.msg_date.between(*dt_range)]\n"
   ]
  },
  {
   "cell_type": "markdown",
   "id": "c293a7fe",
   "metadata": {},
   "source": [
    "### aggregations by date"
   ]
  },
  {
   "cell_type": "code",
   "execution_count": 158,
   "id": "efc2dba5",
   "metadata": {},
   "outputs": [
    {
     "data": {
      "image/png": "[encoded data removed]",
      "text/plain": [
       "<Figure size 640x480 with 1 Axes>"
      ]
     },
     "metadata": {},
     "output_type": "display_data"
    }
   ],
   "source": [
    "df_aggr = df.groupby(df.msg_date.dt.date).size().sort_values(ascending=False).reset_index(name='messages_count')\n",
    "df_aggr[0:5].plot(x='msg_date', y='messages_count',kind='bar')\n",
    "plt.show()"
   ]
  },
  {
   "cell_type": "code",
   "execution_count": 168,
   "id": "696d0b53",
   "metadata": {},
   "outputs": [
    {
     "data": {
      "text/plain": [
       "<Axes: >"
      ]
     },
     "execution_count": 168,
     "metadata": {},
     "output_type": "execute_result"
    },
    {
     "data": {
      "image/png": "[encoded data removed]",
      "text/plain": [
       "<Figure size 640x480 with 1 Axes>"
      ]
     },
     "metadata": {},
     "output_type": "display_data"
    }
   ],
   "source": [
    "# Visualize the distribution of count of messages per day\n",
    "df_aggr.messages_count.hist(bins=50)"
   ]
  },
  {
   "cell_type": "code",
   "execution_count": null,
   "id": "bf699afa",
   "metadata": {},
   "outputs": [],
   "source": []
  }
 ],
 "metadata": {
  "kernelspec": {
   "display_name": "Python 3 (ipykernel)",
   "language": "python",
   "name": "python3"
  },
  "language_info": {
   "codemirror_mode": {
    "name": "ipython",
    "version": 3
   },
   "file_extension": ".py",
   "mimetype": "text/x-python",
   "name": "python",
   "nbconvert_exporter": "python",
   "pygments_lexer": "ipython3",
   "version": "3.12.2"
  }
 },
 "nbformat": 4,
 "nbformat_minor": 5
}
