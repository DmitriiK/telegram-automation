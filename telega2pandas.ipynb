{
 "cells": [
  {
   "cell_type": "code",
   "execution_count": null,
   "id": "28c3ea71",
   "metadata": {},
   "outputs": [],
   "source": [
    "from datetime import datetime\n",
    "\n",
    "import pandas as pd\n",
    "import matplotlib.pyplot as plt\n",
    "%matplotlib inline\n",
    "\n",
    "from read_telega_dump import telega_dump_to_pandas\n",
    "\n",
    "\n",
    "tlg_group_id = -1001688539638 \n",
    "# telegram group id, can be taken from \"copy message link\"  in desctop telegram"
   ]
  },
  {
   "cell_type": "markdown",
   "id": "f805d3b8",
   "metadata": {},
   "source": [
    "### we can use either of the cells below to load data from dump"
   ]
  },
  {
   "cell_type": "code",
   "execution_count": null,
   "id": "addb0330",
   "metadata": {},
   "outputs": [],
   "source": [
    "dump_path = r\"D:\\test_data\\ChatExport_2024-03-14\\result.json\"\n",
    "df = telega_dump_to_pandas(dump_path=dump_path)\n",
    "# note: for data, taken from \"export chat history\", we do not have number of reactions \n"
   ]
  },
  {
   "cell_type": "code",
   "execution_count": null,
   "id": "684b1852",
   "metadata": {},
   "outputs": [],
   "source": [
    "tlg_group_id = -1001688539638\n",
    "file_path = rf'data\\chat{tlg_group_id}.parquet.gzip'\n",
    "df =pd.read_parquet(file_path)\n",
    "df.shape"
   ]
  },
  {
   "cell_type": "code",
   "execution_count": null,
   "id": "4958e722",
   "metadata": {},
   "outputs": [],
   "source": [
    "df.dtypes"
   ]
  },
  {
   "cell_type": "markdown",
   "id": "96eb0c40",
   "metadata": {},
   "source": [
    "### Overall statistics"
   ]
  },
  {
   "cell_type": "code",
   "execution_count": null,
   "id": "de700350",
   "metadata": {},
   "outputs": [],
   "source": [
    "df['dummi'] = 1 # there should be less ugly way to get different aggegations without grouping\n",
    "agg_df = df.groupby('dummi').aggregate({'msg_id':'count','msg_date':['min','max'], 'user_id': 'nunique'}).reset_index()\n",
    "msgs_cnt = agg_df[( 'msg_id', 'count')][0]\n",
    "min_date = agg_df[('msg_date', 'min')][0]\n",
    "max_date = agg_df[('msg_date', 'max')][0]\n",
    "number_of_days = (max_date-min_date).days\n",
    "unique_users =  agg_df[('user_id', 'nunique')][0]\n",
    "del df['dummi'] \n",
    "cols = [\"Metric name\", \"Value\"]\n",
    "dt_format = \"%Y-%m-%d\"\n",
    "d_report = [\n",
    "    {cols[0]: \"Number or messages\", cols[1]: msgs_cnt},\n",
    "    {cols[0]: \"Date interval\", cols[1]: f'from {min_date.strftime(dt_format)} to {max_date.strftime(dt_format)}' },\n",
    "    {cols[0]: \"Users count\", cols[1]: unique_users },\n",
    "    {cols[0]: \"Avg messages per day\", cols[1]: round(msgs_cnt/number_of_days , 1) },\n",
    "    ]\n",
    "pd.DataFrame.from_dict(d_report)\n",
    "\n",
    "\n",
    "\n",
    "\n"
   ]
  },
  {
   "cell_type": "markdown",
   "id": "7deff39f",
   "metadata": {},
   "source": [
    "### assign date range if you want to restict dataset to some particular period for futher analysis, or just ignore the cell below "
   ]
  },
  {
   "cell_type": "code",
   "execution_count": null,
   "id": "e55c25ed",
   "metadata": {
    "tags": [
     "parameters"
    ]
   },
   "outputs": [],
   "source": [
    "tm_zn = 'Europe/Istanbul'\n",
    "dt_range = (pd.Timestamp(year=2022, month=2, day=23, tz=tm_zn), pd.Timestamp(datetime.now(), tz=tm_zn))           \n",
    "number_of_days = (dt_range[1]-dt_range[0]).days\n",
    "df = df[df.msg_date.between(*dt_range)]\n"
   ]
  },
  {
   "cell_type": "markdown",
   "id": "c293a7fe",
   "metadata": {},
   "source": [
    "### aggregations by date"
   ]
  },
  {
   "cell_type": "code",
   "execution_count": null,
   "id": "efc2dba5",
   "metadata": {},
   "outputs": [],
   "source": [
    "df_aggr = df.groupby(df.msg_date.dt.date).size().sort_values(ascending=False).reset_index(name='messages_count')\n",
    "df_aggr[0:10].plot(x='msg_date', y='messages_count',kind='bar')\n",
    "plt.show()"
   ]
  },
  {
   "cell_type": "code",
   "execution_count": null,
   "id": "13d690c6",
   "metadata": {},
   "outputs": [],
   "source": [
    "# Visualize the distribution of count of messages per day\n",
    "df_aggr.messages_count.hist(bins=50)"
   ]
  },
  {
   "cell_type": "code",
   "execution_count": null,
   "id": "170afac8",
   "metadata": {},
   "outputs": [],
   "source": [
    "df_aggr = df.groupby(df.msg_date.dt.hour).size().reset_index(name='messages_count')\n",
    "df_aggr['messages_count'] =  round(df_aggr['messages_count']/number_of_days, 2)\n",
    "df_aggr = df_aggr.rename(columns={'msg_date': 'Hour of day', 'messages_count': 'avg messages per hour'})\n",
    "df_aggr[0:24].plot(x='Hour of day', y='avg messages per hour',kind='bar')\n",
    "plt.show()"
   ]
  }
 ],
 "metadata": {
  "kernelspec": {
   "display_name": "Python 3 (ipykernel)",
   "language": "python",
   "name": "python3"
  },
  "language_info": {
   "codemirror_mode": {
    "name": "ipython",
    "version": 3
   },
   "file_extension": ".py",
   "mimetype": "text/x-python",
   "name": "python",
   "nbconvert_exporter": "python",
   "pygments_lexer": "ipython3",
   "version": "3.12.2"
  }
 },
 "nbformat": 4,
 "nbformat_minor": 5
}
