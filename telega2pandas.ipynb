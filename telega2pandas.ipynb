{
 "cells": [
  {
   "cell_type": "code",
   "execution_count": 1,
   "id": "28c3ea71",
   "metadata": {},
   "outputs": [
    {
     "name": "stderr",
     "output_type": "stream",
     "text": [
      "WARNING:pyrogram.crypto.aes:TgCrypto is missing! Pyrogram will work the same, but at a much slower speed. More info: https://docs.pyrogram.org/topics/speedups\n"
     ]
    },
    {
     "name": "stdout",
     "output_type": "stream",
     "text": [
      "app started at 2024-03-17 19:14:42.522780\n"
     ]
    }
   ],
   "source": [
    "import  asyncio, nest_asyncio\n",
    "from typing import List\n",
    "import pandas as pd\n",
    "\n",
    "from read_telega_dump import telega_dump_to_pandas\n",
    "from read_telega_api import extract_message_reactions\n",
    "from pyrogram_tests import get_reactions\n",
    "import time\n",
    "\n",
    "nest_asyncio.apply()\n",
    "\n",
    "dump_path = r\"D:\\test_data\\ChatExport_2024-03-14\\result.json\"\n",
    "tlg_group_id = -1001688539638 \n",
    "# telegram group id, can be taken from \"copy message link\"  in desctop telegram"
   ]
  },
  {
   "cell_type": "code",
   "execution_count": 2,
   "metadata": {},
   "outputs": [],
   "source": [
    "async def jpt_ntb_extract_message_reactions(tlg_group_id: int, ids: List[int])->pd.DataFrame:\n",
    "    loop = asyncio.get_event_loop()\n",
    "    task = loop.create_task(extract_message_reactions(tlg_group_id, ids, chunk_size=200))\n",
    "    result = await task\n",
    "    # print(\"Result:\", result)\n",
    "    return result"
   ]
  },
  {
   "cell_type": "code",
   "execution_count": 3,
   "id": "addb0330",
   "metadata": {},
   "outputs": [],
   "source": [
    "df = telega_dump_to_pandas(dump_path=dump_path)\n"
   ]
  },
  {
   "cell_type": "code",
   "execution_count": 8,
   "id": "61c74131",
   "metadata": {},
   "outputs": [
    {
     "name": "stderr",
     "output_type": "stream",
     "text": [
      "INFO:pyrogram.connection.connection:Connecting...\n",
      "INFO:pyrogram.connection.connection:Connected! Production DC2 - IPv4\n",
      "INFO:pyrogram.session.session:NetworkTask started\n",
      "INFO:pyrogram.session.session:Session initialized: Layer 158\n",
      "INFO:pyrogram.session.session:Device: CPython 3.12.2 - Pyrogram 2.0.106\n",
      "INFO:pyrogram.session.session:System: Windows 10 (en)\n",
      "INFO:pyrogram.session.session:Session started\n",
      "INFO:pyrogram.session.session:PingTask started\n",
      "INFO:pyrogram.dispatcher:Started 12 HandlerTasks\n",
      "INFO:root:retrieving reactions for 1000 messages\n",
      "INFO:root:got reactions for 25 messages at 19:18:24.557303\n",
      "INFO:pyrogram.dispatcher:Stopped 12 HandlerTasks\n",
      "INFO:pyrogram.session.session:PingTask stopped\n",
      "INFO:pyrogram.session.session:NetworkTask stopped\n",
      "INFO:pyrogram.connection.connection:Disconnected\n",
      "INFO:pyrogram.session.session:Session stopped\n"
     ]
    },
    {
     "name": "stdout",
     "output_type": "stream",
     "text": [
      "[148277, 148297, 148297, 148300, 148301, 148301, 148305, 148306, 148310, 148312, 148316, 148323, 148324, 148325, 148331, 148333, 148334, 148335, 148335, 148343, 148343, 148345, 148346, 148352, 148355, 148356, 148358, 148359]\n"
     ]
    }
   ],
   "source": [
    "ids = df['id'].to_list()\n",
    "# df_reactions = asyncio.run(jpt_ntb_extract_message_reactions(tlg_group_id, ids[141300:142000]))\n",
    "df_reactions = asyncio.run(get_reactions(tlg_group_id, ids[141000:142000]))\n"
   ]
  },
  {
   "cell_type": "code",
   "execution_count": 10,
   "id": "cf1293a0",
   "metadata": {},
   "outputs": [
    {
     "data": {
      "text/plain": [
       "28"
      ]
     },
     "execution_count": 10,
     "metadata": {},
     "output_type": "execute_result"
    }
   ],
   "source": [
    "len(df_reactions)"
   ]
  },
  {
   "cell_type": "code",
   "execution_count": 7,
   "id": "d54ff590",
   "metadata": {},
   "outputs": [
    {
     "data": {
      "text/plain": [
       "32"
      ]
     },
     "execution_count": 7,
     "metadata": {},
     "output_type": "execute_result"
    }
   ],
   "source": [
    "#149230 in ids[141900:142000] # df_reactions['msg_id'].to_list()\n",
    "\n",
    "# 149230 in \n",
    "len(df_reactions) # ['msg_id'].to_list()\n"
   ]
  },
  {
   "cell_type": "code",
   "execution_count": null,
   "id": "4acade36",
   "metadata": {},
   "outputs": [],
   "source": [
    "df.to_parquet('df.parquet.gzip', compression='gzip')"
   ]
  },
  {
   "cell_type": "code",
   "execution_count": null,
   "id": "e8fc5278",
   "metadata": {},
   "outputs": [],
   "source": [
    "import tiktoken\n",
    "\n",
    "# Load the cl100k_base tokenizer which is designed to work with the ada-002 model\n",
    "tokenizer = tiktoken.get_encoding(\"cl100k_base\")\n",
    "\n",
    "\n",
    "# Tokenize the text and save the number of tokens to a new column\n",
    "df['n_tokens'] = df.mess_text.apply(lambda x: len(tokenizer.encode(x)))\n",
    "\n"
   ]
  },
  {
   "cell_type": "code",
   "execution_count": null,
   "id": "84b31b66",
   "metadata": {},
   "outputs": [],
   "source": [
    "# df.dtypes\n",
    "# Visualize the distribution of the number of tokens per row using a histogram\n",
    "df.n_tokens.hist(bins=200)\n",
    "# df.tail(50)\n",
    "\n"
   ]
  }
 ],
 "metadata": {
  "kernelspec": {
   "display_name": "Python 3 (ipykernel)",
   "language": "python",
   "name": "python3"
  },
  "language_info": {
   "codemirror_mode": {
    "name": "ipython",
    "version": 3
   },
   "file_extension": ".py",
   "mimetype": "text/x-python",
   "name": "python",
   "nbconvert_exporter": "python",
   "pygments_lexer": "ipython3",
   "version": "3.12.2"
  }
 },
 "nbformat": 4,
 "nbformat_minor": 5
}
